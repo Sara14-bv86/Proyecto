{
 "cells": [
  {
   "cell_type": "markdown",
   "id": "8873a296-1353-4ba9-8d70-7b8c1f9a189f",
   "metadata": {},
   "source": [
    "<div class=\"alert alert-block alert-success\">\n",
    "\n",
    "# Proyecto.\n",
    "\n",
    "Usando la información del archivo `personal_data.csv` crear una aplicación que pregunte el ID del paciente y genere la siguiente salida:\n",
    "\n",
    "<img src=\"proyecto.png\" width=350px>\n",
    "\n",
    "</div>"
   ]
  },
  {
   "cell_type": "code",
   "execution_count": 1,
   "id": "8f3ef88a-9269-4fc3-bfcd-089e6620361e",
   "metadata": {},
   "outputs": [
    {
     "name": "stdout",
     "output_type": "stream",
     "text": [
      "――――――――――――――――――――――――――――――――――――――――――――――――――\n",
      "                   Sistema XYZ                    \n",
      "――――――――――――――――――――――――――――――――――――――――――――――――――\n"
     ]
    },
    {
     "name": "stdin",
     "output_type": "stream",
     "text": [
      "ID. pacientes (separados por coma):  37, 26\n"
     ]
    },
    {
     "name": "stdout",
     "output_type": "stream",
     "text": [
      "――――――――――――――――――――――――――――――――――――――――――――――――――\n",
      "                      Paciente :  26  \n",
      "                          Sexo :   m  \n",
      "                          Edad :  44  \n",
      "                          Peso :  71  \n",
      "                      Estatura : 1.65 \n",
      "                           IMC : 26.08\n",
      "                      Diabetes :  No  \n",
      "                  Hipertensión :  No  \n",
      "                     Depresión :  No  \n",
      "           Trastorno del sueño :  No  \n",
      "  Trastorno de la alimentación :  No  \n",
      "――――――――――――――――――――――――――――――――――――――――――――――――――\n",
      "                      Paciente :  37  \n",
      "                          Sexo :   h  \n",
      "                          Edad :  45  \n",
      "                          Peso :  79  \n",
      "                      Estatura :  1.7 \n",
      "                           IMC : 27.34\n",
      "                      Diabetes :  No  \n",
      "\u001b[31m\u001b[1m                  Hipertensión :  Si  \u001b[0m\n",
      "                     Depresión :  No  \n",
      "           Trastorno del sueño :  No  \n",
      "  Trastorno de la alimentación :  No  \n",
      "――――――――――――――――――――――――――――――――――――――――――――――――――\n"
     ]
    }
   ],
   "source": [
    "import proyecto\n",
    "proyecto.ejecutar()\n"
   ]
  },
  {
   "cell_type": "markdown",
   "id": "4b3dfa15-921c-4e81-b89e-47e053e4037d",
   "metadata": {},
   "source": [
    "# Colorama\n",
    "\n",
    "Biblioteca para colorear la salida (https://pypi.org/project/colorama/)"
   ]
  },
  {
   "cell_type": "code",
   "execution_count": 26,
   "id": "db8c4517-8404-4dbd-8efa-a47815de162e",
   "metadata": {},
   "outputs": [],
   "source": [
    "from colorama import Fore, Style"
   ]
  },
  {
   "cell_type": "markdown",
   "id": "22645cba-7523-4697-ba87-77a3cd3611ad",
   "metadata": {},
   "source": [
    "## Función para la lectura de datos."
   ]
  },
  {
   "cell_type": "code",
   "execution_count": 21,
   "id": "7c60927a-e756-4d54-8281-103bf9f54972",
   "metadata": {},
   "outputs": [],
   "source": [
    "def obtener_datos_entrada():\n",
    "    pass"
   ]
  },
  {
   "cell_type": "code",
   "execution_count": 22,
   "id": "6dd8c121-5875-44a7-b3d4-e3bb866eca83",
   "metadata": {},
   "outputs": [],
   "source": [
    "# Probar la función 'lectura_datos()'\n",
    "obtener_datos_entrada()"
   ]
  },
  {
   "cell_type": "markdown",
   "id": "d3bcc766-2446-4800-a8fe-615c76514407",
   "metadata": {},
   "source": [
    "## Función para desplegar la pantalla inicial."
   ]
  },
  {
   "cell_type": "code",
   "execution_count": 23,
   "id": "00984ef8-60cd-4ce6-bd06-17bcc18cce3f",
   "metadata": {},
   "outputs": [],
   "source": [
    "def desplegar_pantalla_inicio():\n",
    "    pass"
   ]
  },
  {
   "cell_type": "code",
   "execution_count": 24,
   "id": "d342df74-526a-4168-97d6-e745b9cbc3a0",
   "metadata": {},
   "outputs": [],
   "source": [
    "# Probar la función 'pantalla_inicio()'\n",
    "desplegar_pantalla_inicio()"
   ]
  },
  {
   "cell_type": "markdown",
   "id": "f965e999-5d52-4ea5-bbcb-1e222a4216e6",
   "metadata": {},
   "source": [
    "## Funciones para abrir y cerrar el archivo de datos"
   ]
  },
  {
   "cell_type": "code",
   "execution_count": 25,
   "id": "5e1b3914-5ead-401a-a6ae-55ef8f4cf4fb",
   "metadata": {},
   "outputs": [],
   "source": [
    "def abrir_archivo(nombre = \"../archivos/personal_data.csv\"):\n",
    "    pass\n",
    "\n",
    "def cerrar_archivo(file_descriptor):\n",
    "    pass"
   ]
  },
  {
   "cell_type": "code",
   "execution_count": null,
   "id": "3ee96c36-8a90-4e67-8173-37f2494089b9",
   "metadata": {},
   "outputs": [],
   "source": [
    "# Probar las funciones 'abrir_archivo()' y 'cerrar_archivo()'"
   ]
  },
  {
   "cell_type": "markdown",
   "id": "6620baa9-384a-43b5-a424-f8c3d4b4bbea",
   "metadata": {},
   "source": [
    "## Función para leer la información del archivo"
   ]
  },
  {
   "cell_type": "code",
   "execution_count": 27,
   "id": "a201ddd5-4ee4-4e92-8142-1ab0b952af9c",
   "metadata": {},
   "outputs": [],
   "source": [
    "def leer_archivo(IDs):\n",
    "    pass"
   ]
  },
  {
   "cell_type": "markdown",
   "id": "bfc67de6-cebb-4acf-a07a-64c78df4d499",
   "metadata": {},
   "source": [
    "## Función para transformar la info a diccionario"
   ]
  },
  {
   "cell_type": "code",
   "execution_count": 28,
   "id": "f0ab8f24-3a04-4158-9ee0-8adaf0dd4ccb",
   "metadata": {},
   "outputs": [],
   "source": [
    "def transformar_datos(r, e):\n",
    "    pass"
   ]
  },
  {
   "cell_type": "markdown",
   "id": "0d517a29-35c4-4446-abac-a230df93d2e1",
   "metadata": {},
   "source": [
    "## Función para desplegar la información"
   ]
  },
  {
   "cell_type": "code",
   "execution_count": 29,
   "id": "3b5b5fd1-7b60-4c87-9ee2-48cf9e85d3ef",
   "metadata": {},
   "outputs": [],
   "source": [
    "def desplegar_datos(d):\n",
    "    pass"
   ]
  },
  {
   "cell_type": "markdown",
   "id": "b4069916-f08f-477e-89ea-48c3e05c6f45",
   "metadata": {},
   "source": [
    "## Función para determinar el nivel de IMC"
   ]
  },
  {
   "cell_type": "code",
   "execution_count": 30,
   "id": "6555691f-5d48-44eb-a3a5-5710b8cd7cf3",
   "metadata": {},
   "outputs": [],
   "source": [
    "def calcular_nivel_IMC(imc):\n",
    "    pass"
   ]
  },
  {
   "cell_type": "code",
   "execution_count": 29,
   "id": "2aa63050-bb9a-4f12-9182-c6dd54b24123",
   "metadata": {},
   "outputs": [
    {
     "name": "stdout",
     "output_type": "stream",
     "text": [
      "Requirement already satisfied: colorama in /opt/conda/lib/python3.11/site-packages (0.4.6)\n",
      "Note: you may need to restart the kernel to use updated packages.\n"
     ]
    }
   ],
   "source": [
    "\n",
    "pip install colorama"
   ]
  },
  {
   "cell_type": "markdown",
   "id": "fa318a9c-cffe-4bb9-812b-6252cc6af4bc",
   "metadata": {},
   "source": [
    "## Ejecución"
   ]
  },
  {
   "cell_type": "code",
   "execution_count": 2,
   "id": "c0f0510e-b75b-40a1-bea6-8bcdd1e1fd89",
   "metadata": {
    "scrolled": true
   },
   "outputs": [
    {
     "name": "stdout",
     "output_type": "stream",
     "text": [
      "―――――――――――――――――――――――――――――――――――――――――――――\n",
      "                   Sistema XYZ                    \n",
      "―――――――――――――――――――――――――――――――――――――――――――――\n"
     ]
    },
    {
     "name": "stdin",
     "output_type": "stream",
     "text": [
      "ID. pacientes (separados por coma):  67,90,100\n"
     ]
    },
    {
     "name": "stdout",
     "output_type": "stream",
     "text": [
      "―――――――――――――――――――――――――――――――――――――――――――――\n",
      "                Paciente :   67\n",
      "                    Sexo :   h\n",
      "                    Edad :  49\n",
      "                    Peso :  88.0\n",
      "                Estatura : 1.7\n",
      "                     IMC : \u001b[31m\u001b[1m30.45\u001b[0m\n",
      "                Diabetes :  No\n",
      "            Hipertensión :  \u001b[31m\u001b[1mSi\u001b[0m\n",
      "               Depresión :  No\n",
      "     Trastorno del sueño :  No\n",
      "Trastorno de la alimentación :  No\n",
      "―――――――――――――――――――――――――――――――――――――――――――――\n",
      "                Paciente :   90\n",
      "                    Sexo :   m\n",
      "                    Edad :  44\n",
      "                    Peso :  86.0\n",
      "                Estatura : 1.58\n",
      "                     IMC : \u001b[31m\u001b[1m34.45\u001b[0m\n",
      "                Diabetes :  \u001b[31m\u001b[1mSi\u001b[0m\n",
      "            Hipertensión :  \u001b[31m\u001b[1mSi\u001b[0m\n",
      "               Depresión :  \u001b[31m\u001b[1mSi\u001b[0m\n",
      "     Trastorno del sueño :  \u001b[31m\u001b[1mSi\u001b[0m\n",
      "Trastorno de la alimentación :  \u001b[31m\u001b[1mSi\u001b[0m\n",
      "―――――――――――――――――――――――――――――――――――――――――――――\n",
      "                Paciente :  100\n",
      "                    Sexo :   m\n",
      "                    Edad :  58\n",
      "                    Peso :  81.0\n",
      "                Estatura : 1.66\n",
      "                     IMC : 29.39\n",
      "                Diabetes :  No\n",
      "            Hipertensión :  \u001b[31m\u001b[1mSi\u001b[0m\n",
      "               Depresión :  No\n",
      "     Trastorno del sueño :  No\n",
      "Trastorno de la alimentación :  \u001b[31m\u001b[1mSi\u001b[0m\n",
      "―――――――――――――――――――――――――――――――――――――――――――――\n"
     ]
    }
   ],
   "source": [
    "\n",
    "# Colorama \n",
    "import colorama\n",
    "from colorama import Fore, Style\n",
    "\n",
    "def leer_datos_archivo(archivo_csv):\n",
    "    # Lee los datos del archivo CSV y retorna una lista de diccionarios con los datos.\"\"\"\n",
    "    pacientes = []\n",
    "    with open(\"personal_data.csv\", 'r') as file:\n",
    "        lines = file.readlines()[1:]  # Omitir la primera línea (encabezado)\n",
    "        for line in lines:\n",
    "            data = line.strip().split(',')\n",
    "            paciente = {\n",
    "                'ID': int(data[0]),  \n",
    "                'Sexo': data[1],\n",
    "                'Edad': int(data[2]),\n",
    "                'Peso': float(data[3]),\n",
    "                'Estatura': float(data[4]),\n",
    "                'IMC': float(data[5]),\n",
    "                'Diabetes': data[6],\n",
    "                'Hipertensión': data[7],\n",
    "                'Depresión': data[8],\n",
    "                'Trastorno del sueño': data[9],\n",
    "                'Trastorno de la alimentación': data[10]\n",
    "            }\n",
    "            pacientes.append(paciente)\n",
    "    return pacientes\n",
    "\n",
    "def mostrar_informacion_paciente(paciente):\n",
    "    # Muestra la información de un paciente de manera estructurada, coloreando datos fuera de rango\n",
    "    \n",
    "    # Verificar si el IMC está fuera de rango (> 30)\n",
    "    if paciente['IMC'] > 30:\n",
    "        imc_str = Fore.RED + Style.BRIGHT + f\"{paciente['IMC']:.2f}\" + Style.RESET_ALL\n",
    "    else:\n",
    "        imc_str = f\"{paciente['IMC']:.2f}\"\n",
    "\n",
    "         # Verificar otras condiciones de salud\n",
    "    \n",
    "    diabetes_str = Fore.RED + Style.BRIGHT+ paciente['Diabetes'] + Style.RESET_ALL if paciente['Diabetes'] == 'Si' else paciente['Diabetes']\n",
    "    hipertension_str = Fore.RED + Style.BRIGHT+ paciente['Hipertensión'] + Style.RESET_ALL if paciente['Hipertensión'] == 'Si' else paciente['Hipertensión']\n",
    "    depresion_str = Fore.RED + Style.BRIGHT+ paciente['Depresión'] + Style.RESET_ALL if paciente['Depresión'] == 'Si' else paciente['Depresión']\n",
    "    trastorno_sueno_str = Fore.RED + Style.BRIGHT + paciente['Trastorno del sueño'] + Style.RESET_ALL if paciente['Trastorno del sueño'] == 'Si' else paciente['Trastorno del sueño']\n",
    "    trastorno_alimentacion_str = Fore.RED+ Style.BRIGHT + paciente['Trastorno de la alimentación'] + Style.RESET_ALL if paciente['Trastorno de la alimentación'] == 'Si' else paciente['Trastorno de la alimentación']\n",
    "    \n",
    "    print(f\"{'Paciente':>24} :  {paciente['ID']:>3}\")\n",
    "    print(f\"{'Sexo':>24} :   {paciente['Sexo']}\")\n",
    "    print(f\"{'Edad':>24} :  {paciente['Edad']}\")\n",
    "    print(f\"{'Peso':>24} :  {paciente['Peso']}\")\n",
    "    print(f\"{'Estatura':>24} : {paciente['Estatura']}\")\n",
    "    print(f\"{'IMC':>24} : {imc_str}\")\n",
    "    print(f\"{'Diabetes':>24} :  {diabetes_str}\")\n",
    "    print(f\"{'Hipertensión':>24} :  {hipertension_str}\")\n",
    "    print(f\"{'Depresión':>24} :  {depresion_str}\")\n",
    "    print(f\"{'Trastorno del sueño':>24} :  {trastorno_sueno_str}\")\n",
    "    print(f\"{'Trastorno de la alimentación':>24} :  {trastorno_alimentacion_str}\")\n",
    "    print(45 * chr(0x2015))\n",
    "    \n",
    "def buscar_pacientes(pacientes, ids_buscados):\n",
    "    # Busca pacientes por sus IDs y muestra la información\n",
    "    for id_buscado in ids_buscados:\n",
    "        encontrado = False\n",
    "        for paciente in pacientes:\n",
    "            if paciente['ID'] == id_buscado:\n",
    "                mostrar_informacion_paciente(paciente)\n",
    "                encontrado = True\n",
    "                break\n",
    "        if not encontrado:\n",
    "            print(Fore.RED+ Style.BRIGHT + f\"No se encontró ningún paciente con ID: {id_buscado}\")\n",
    "            print(45 * chr(0x2015))\n",
    "\n",
    "def obtener_datos_entrada():\n",
    "    # Solicita los IDs de los pacientes y los convierte a enteros\n",
    "    \n",
    "    ids_input = input(\"ID. pacientes (separados por coma): \").split(',')\n",
    "    \n",
    "    # Convertir a enteros, manejando posibles errores de entrada\n",
    "    IDs = []\n",
    "    for id_str in ids_input:\n",
    "        try:\n",
    "            IDs.append(int(id_str.strip()))  # Convertir cada ID a entero, eliminando espacios en blanco\n",
    "        except ValueError:\n",
    "            print(Fore.RED + Style.BRIGHT+ f\"Error: '{id_str}' no es un ID válido. Se omitirá.\")\n",
    "    \n",
    "    # Regresar una lista ordenada y sin repeticiones\n",
    "    return sorted(set(IDs))\n",
    "\n",
    "# Nombre del archivo CSV\n",
    "archivo_csv = 'personal_data.csv'\n",
    "\n",
    "# Leer los datos del archivo\n",
    "pacientes = leer_datos_archivo(archivo_csv)\n",
    "\n",
    "# Mostrar encabezado del sistema\n",
    "print(45 * chr(0x2015))\n",
    "print(\"                   Sistema XYZ                    \")\n",
    "print(45 * chr(0x2015))\n",
    "\n",
    "# Obtener los IDs de los pacientes\n",
    "ids_buscados = obtener_datos_entrada()\n",
    "\n",
    "# Mostrar línea de separación\n",
    "print(45 * chr(0x2015))\n",
    "\n",
    "# Buscar y mostrar información de los pacientes\n",
    "buscar_pacientes(pacientes, ids_buscados)\n",
    "  \n",
    "\n",
    "\n",
    "  \n",
    "\n",
    "\n",
    "\n"
   ]
  },
  {
   "cell_type": "code",
   "execution_count": null,
   "id": "f0b0af9a-0005-4519-87ec-adc7502f56b7",
   "metadata": {},
   "outputs": [],
   "source": [
    "\n",
    "\n",
    "\n"
   ]
  }
 ],
 "metadata": {
  "kernelspec": {
   "display_name": "Python 3 (ipykernel)",
   "language": "python",
   "name": "python3"
  },
  "language_info": {
   "codemirror_mode": {
    "name": "ipython",
    "version": 3
   },
   "file_extension": ".py",
   "mimetype": "text/x-python",
   "name": "python",
   "nbconvert_exporter": "python",
   "pygments_lexer": "ipython3",
   "version": "3.11.6"
  }
 },
 "nbformat": 4,
 "nbformat_minor": 5
}
